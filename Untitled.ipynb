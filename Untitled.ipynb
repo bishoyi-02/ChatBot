{
 "cells": [
  {
   "cell_type": "code",
   "execution_count": 1,
   "id": "71ff1c64",
   "metadata": {},
   "outputs": [
    {
     "name": "stderr",
     "output_type": "stream",
     "text": [
      "[nltk_data] Error loading punkt: <urlopen error [Errno 11001]\n",
      "[nltk_data]     getaddrinfo failed>\n",
      "[nltk_data] Error loading wordnet: <urlopen error [Errno 11001]\n",
      "[nltk_data]     getaddrinfo failed>\n"
     ]
    },
    {
     "data": {
      "text/plain": [
       "False"
      ]
     },
     "execution_count": 1,
     "metadata": {},
     "output_type": "execute_result"
    }
   ],
   "source": [
    "import json\n",
    "import string\n",
    "import random\n",
    "import nltk\n",
    "import numpy as num\n",
    "from nltk.stem import WordNetLemmatizer # It has the ability to lemmatize.\n",
    "import tensorflow as tensorF # A multidimensional array of elements is represented by this symbol.\n",
    "from tensorflow.keras import Sequential # Sequential groups a linear stack of layers into a tf.keras.Model\n",
    "from tensorflow.keras.layers import Dense, Dropout\n",
    "\n",
    "nltk.download(\"punkt\")# required package for tokenization\n",
    "nltk.download(\"wordnet\")# word database"
   ]
  },
  {
   "cell_type": "code",
   "execution_count": 2,
   "id": "28c65c05",
   "metadata": {},
   "outputs": [],
   "source": [
    "data = {\"intents\": [\n",
    "\n",
    "             {\"tag\": \"age\",\n",
    "              \"patterns\": [\"how old are you?\"],\n",
    "              \"responses\": [\"I am 2 years old and my birthday was yesterday\"]\n",
    "             },\n",
    "              {\"tag\": \"greeting\",\n",
    "              \"patterns\": [ \"Hi\", \"Hello\", \"Hey\"],\n",
    "              \"responses\": [\"Hi there\", \"Hello\", \"Hi :)\"],\n",
    "             },\n",
    "              {\"tag\": \"goodbye\",\n",
    "              \"patterns\": [ \"bye\", \"later\"],\n",
    "              \"responses\": [\"Bye\", \"take care\"]\n",
    "             },\n",
    "             {\"tag\": \"name\",\n",
    "              \"patterns\": [\"what's your name?\", \"who are you?\"],\n",
    "              \"responses\": [\"I have no name yet,\" \"You can give me one, and I will appreciate it\"]\n",
    "             }\n",
    "\n",
    "]}"
   ]
  },
  {
   "cell_type": "code",
   "execution_count": 3,
   "id": "25c7ca78",
   "metadata": {},
   "outputs": [
    {
     "name": "stdout",
     "output_type": "stream",
     "text": [
      "['age', 'greeting', 'goodbye', 'name']\n",
      "['age', 'goodbye', 'greeting', 'name']\n"
     ]
    }
   ],
   "source": [
    "lm = WordNetLemmatizer()\n",
    "ourClasses=[]\n",
    "newWords=[]\n",
    "docPattern=[]\n",
    "docTag=[]\n",
    "\n",
    "for intent in data['intents']:\n",
    "    for pattern in intent['patterns']:\n",
    "        ourNewTokens = nltk.word_tokenize(pattern)\n",
    "        newWords.extend(ourNewTokens)\n",
    "        docPattern.append(pattern)\n",
    "        docTag.append(intent['tag'])\n",
    "    if intent['tag'] not in ourClasses:\n",
    "        ourClasses.append(intent['tag'])\n",
    "        \n",
    "newWords = [lm.lemmatize(word.lower()) for word in newWords if word not in string.punctuation]\n",
    "newWords = sorted(set(newWords))\n",
    "print(ourClasses)\n",
    "ourClasses=sorted(set(ourClasses))\n",
    "print(ourClasses)"
   ]
  },
  {
   "cell_type": "code",
   "execution_count": null,
   "id": "1784cc3c",
   "metadata": {},
   "outputs": [],
   "source": []
  }
 ],
 "metadata": {
  "kernelspec": {
   "display_name": "Python 3.9.12 ('base')",
   "language": "python",
   "name": "python3"
  },
  "language_info": {
   "codemirror_mode": {
    "name": "ipython",
    "version": 3
   },
   "file_extension": ".py",
   "mimetype": "text/x-python",
   "name": "python",
   "nbconvert_exporter": "python",
   "pygments_lexer": "ipython3",
   "version": "3.9.12"
  },
  "vscode": {
   "interpreter": {
    "hash": "73a197a79e860027e9e7724e311d3867b5840734267a0b6823cf429c04fedd9e"
   }
  }
 },
 "nbformat": 4,
 "nbformat_minor": 5
}
